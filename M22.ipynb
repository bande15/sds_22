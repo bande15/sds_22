{
  "nbformat": 4,
  "nbformat_minor": 0,
  "metadata": {
    "colab": {
      "name": "M2_2.ipynb",
      "provenance": [],
      "collapsed_sections": []
    },
    "kernelspec": {
      "name": "python3",
      "display_name": "Python 3"
    }
  },
  "cells": [
    {
      "cell_type": "markdown",
      "metadata": {
        "id": "8wsTbENWD_GB",
        "colab_type": "text"
      },
      "source": [
        "# M2.2 Hate Speech"
      ]
    },
    {
      "cell_type": "markdown",
      "metadata": {
        "id": "ZQrtIM2-ESap",
        "colab_type": "text"
      },
      "source": [
        "\n",
        "## Pre processing"
      ]
    },
    {
      "cell_type": "markdown",
      "metadata": {
        "id": "CqbRv5ircid6",
        "colab_type": "text"
      },
      "source": [
        "### Fetch Data"
      ]
    },
    {
      "cell_type": "code",
      "metadata": {
        "id": "J86ko39lD-FK",
        "colab_type": "code",
        "colab": {}
      },
      "source": [
        "!wget -q https://transfer.sh/Zgwhy/twitter_hate_speech.csv -O hate"
      ],
      "execution_count": 0,
      "outputs": []
    },
    {
      "cell_type": "markdown",
      "metadata": {
        "id": "y9wjg2ngcku7",
        "colab_type": "text"
      },
      "source": [
        "### Load and install packages"
      ]
    },
    {
      "cell_type": "code",
      "metadata": {
        "id": "lFDgDc-zo1-T",
        "colab_type": "code",
        "colab": {}
      },
      "source": [
        "# Filtering annmoying warning spam\n",
        "from warnings import simplefilter\n",
        "simplefilter(action='ignore', category=(FutureWarning,DeprecationWarning,UserWarning))"
      ],
      "execution_count": 0,
      "outputs": []
    },
    {
      "cell_type": "code",
      "metadata": {
        "id": "QPS3vGGhEaOC",
        "colab_type": "code",
        "colab": {}
      },
      "source": [
        "# The usual suspects\n",
        "import pandas as pd\n",
        "import numpy as np"
      ],
      "execution_count": 0,
      "outputs": []
    },
    {
      "cell_type": "code",
      "metadata": {
        "id": "w4rla4w1eTLx",
        "colab_type": "code",
        "colab": {}
      },
      "source": [
        "# Tools\n",
        "import re\n",
        "import multiprocessing\n",
        "from sklearn.decomposition import TruncatedSVD\n",
        "from sklearn.feature_extraction.text import CountVectorizer, TfidfVectorizer\n",
        "from sklearn.linear_model import LogisticRegression\n",
        "from sklearn.metrics import accuracy_score\n",
        "from sklearn.pipeline import Pipeline, make_pipeline\n",
        "from xgboost import XGBClassifier"
      ],
      "execution_count": 0,
      "outputs": []
    },
    {
      "cell_type": "code",
      "metadata": {
        "id": "dbWgstose0Fk",
        "colab_type": "code",
        "colab": {}
      },
      "source": [
        "# Natural language packages, part 1\n",
        "!pip -q install eli5\n",
        "import eli5\n",
        "from eli5.lime import TextExplainer"
      ],
      "execution_count": 0,
      "outputs": []
    },
    {
      "cell_type": "code",
      "metadata": {
        "id": "iyvqy3qMc2vc",
        "colab_type": "code",
        "outputId": "9ddee84f-8661-474c-8cdb-bd25bb33b0ed",
        "colab": {
          "base_uri": "https://localhost:8080/",
          "height": 85
        }
      },
      "source": [
        "# Natural language packages, part 2\n",
        "import nltk as n\n",
        "from nltk.tokenize import word_tokenize, sent_tokenize\n",
        "n.download('punkt')\n",
        "n.download('stopwords')\n",
        "import gensim\n",
        "import gensim.downloader as gapi\n",
        "from gensim.corpora.dictionary import Dictionary\n",
        "from gensim.models import FastText, LdaMulticore, Word2Vec\n",
        "import spacy"
      ],
      "execution_count": 234,
      "outputs": [
        {
          "output_type": "stream",
          "text": [
            "[nltk_data] Downloading package punkt to /root/nltk_data...\n",
            "[nltk_data]   Package punkt is already up-to-date!\n",
            "[nltk_data] Downloading package stopwords to /root/nltk_data...\n",
            "[nltk_data]   Package stopwords is already up-to-date!\n"
          ],
          "name": "stdout"
        }
      ]
    },
    {
      "cell_type": "code",
      "metadata": {
        "id": "y87hcegr6HuO",
        "colab_type": "code",
        "colab": {}
      },
      "source": [
        "# Visualization packages\n",
        "!pip -q install pyLDAvis\n",
        "import pyLDAvis.gensim"
      ],
      "execution_count": 0,
      "outputs": []
    },
    {
      "cell_type": "markdown",
      "metadata": {
        "id": "thqvweVapV7_",
        "colab_type": "text"
      },
      "source": [
        "## Opgave 1"
      ]
    },
    {
      "cell_type": "markdown",
      "metadata": {
        "id": "7UiUUMUthvaH",
        "colab_type": "text"
      },
      "source": [
        "### Inspect data"
      ]
    },
    {
      "cell_type": "code",
      "metadata": {
        "id": "1DecAuCpEs1R",
        "colab_type": "code",
        "outputId": "e5fa6fbb-0d82-4482-a348-5be6b2af15db",
        "colab": {
          "base_uri": "https://localhost:8080/",
          "height": 340
        }
      },
      "source": [
        "hs = pd.read_csv('hate')\n",
        "hs.info()\n",
        "hs.head()"
      ],
      "execution_count": 236,
      "outputs": [
        {
          "output_type": "stream",
          "text": [
            "<class 'pandas.core.frame.DataFrame'>\n",
            "RangeIndex: 24783 entries, 0 to 24782\n",
            "Data columns (total 3 columns):\n",
            "Unnamed: 0    24783 non-null int64\n",
            "class         24783 non-null int64\n",
            "tweet         24783 non-null object\n",
            "dtypes: int64(2), object(1)\n",
            "memory usage: 580.9+ KB\n"
          ],
          "name": "stdout"
        },
        {
          "output_type": "execute_result",
          "data": {
            "text/html": [
              "<div>\n",
              "<style scoped>\n",
              "    .dataframe tbody tr th:only-of-type {\n",
              "        vertical-align: middle;\n",
              "    }\n",
              "\n",
              "    .dataframe tbody tr th {\n",
              "        vertical-align: top;\n",
              "    }\n",
              "\n",
              "    .dataframe thead th {\n",
              "        text-align: right;\n",
              "    }\n",
              "</style>\n",
              "<table border=\"1\" class=\"dataframe\">\n",
              "  <thead>\n",
              "    <tr style=\"text-align: right;\">\n",
              "      <th></th>\n",
              "      <th>Unnamed: 0</th>\n",
              "      <th>class</th>\n",
              "      <th>tweet</th>\n",
              "    </tr>\n",
              "  </thead>\n",
              "  <tbody>\n",
              "    <tr>\n",
              "      <th>0</th>\n",
              "      <td>0</td>\n",
              "      <td>2</td>\n",
              "      <td>!!! RT @mayasolovely: As a woman you shouldn't...</td>\n",
              "    </tr>\n",
              "    <tr>\n",
              "      <th>1</th>\n",
              "      <td>1</td>\n",
              "      <td>1</td>\n",
              "      <td>!!!!! RT @mleew17: boy dats cold...tyga dwn ba...</td>\n",
              "    </tr>\n",
              "    <tr>\n",
              "      <th>2</th>\n",
              "      <td>2</td>\n",
              "      <td>1</td>\n",
              "      <td>!!!!!!! RT @UrKindOfBrand Dawg!!!! RT @80sbaby...</td>\n",
              "    </tr>\n",
              "    <tr>\n",
              "      <th>3</th>\n",
              "      <td>3</td>\n",
              "      <td>1</td>\n",
              "      <td>!!!!!!!!! RT @C_G_Anderson: @viva_based she lo...</td>\n",
              "    </tr>\n",
              "    <tr>\n",
              "      <th>4</th>\n",
              "      <td>4</td>\n",
              "      <td>1</td>\n",
              "      <td>!!!!!!!!!!!!! RT @ShenikaRoberts: The shit you...</td>\n",
              "    </tr>\n",
              "  </tbody>\n",
              "</table>\n",
              "</div>"
            ],
            "text/plain": [
              "   Unnamed: 0  class                                              tweet\n",
              "0           0      2  !!! RT @mayasolovely: As a woman you shouldn't...\n",
              "1           1      1  !!!!! RT @mleew17: boy dats cold...tyga dwn ba...\n",
              "2           2      1  !!!!!!! RT @UrKindOfBrand Dawg!!!! RT @80sbaby...\n",
              "3           3      1  !!!!!!!!! RT @C_G_Anderson: @viva_based she lo...\n",
              "4           4      1  !!!!!!!!!!!!! RT @ShenikaRoberts: The shit you..."
            ]
          },
          "metadata": {
            "tags": []
          },
          "execution_count": 236
        }
      ]
    },
    {
      "cell_type": "markdown",
      "metadata": {
        "id": "0zg9dKkLi3h6",
        "colab_type": "text"
      },
      "source": [
        "### Process data"
      ]
    },
    {
      "cell_type": "markdown",
      "metadata": {
        "id": "DAkSDOzOnd19",
        "colab_type": "text"
      },
      "source": [
        "Data will be vectorized, split into test and train sets at a arbitrary 2:1 ratio."
      ]
    },
    {
      "cell_type": "code",
      "metadata": {
        "id": "5OrT8cI6iTVx",
        "colab_type": "code",
        "colab": {}
      },
      "source": [
        "# Vectorization and truncation\n",
        "vectorizer = TfidfVectorizer()\n",
        "classifier = LogisticRegression()\n",
        "model = Pipeline([\n",
        "    ('vectorizer', vectorizer),\n",
        "    ('classifier', classifier)\n",
        "])\n",
        "model.fit(hs['tweet'], hs['class'])\n",
        "\n",
        "vec = TfidfVectorizer()\n",
        "svd = TruncatedSVD(n_components=100, n_iter=10, random_state=69)\n",
        "lsa = make_pipeline(vec, svd)"
      ],
      "execution_count": 0,
      "outputs": []
    },
    {
      "cell_type": "code",
      "metadata": {
        "id": "5LzZCuDgiUNb",
        "colab_type": "code",
        "colab": {}
      },
      "source": [
        "# Splitting data into training and testing data at 2:1 ratio.\n",
        "a = 2 * int(len(hs)/3)\n",
        "train = hs.iloc[:a]\n",
        "test = hs.iloc[a:]"
      ],
      "execution_count": 0,
      "outputs": []
    },
    {
      "cell_type": "code",
      "metadata": {
        "id": "ipK0PGwKizLf",
        "colab_type": "code",
        "outputId": "8a03149d-8896-43cf-e321-ee33b01e092b",
        "colab": {
          "base_uri": "https://localhost:8080/",
          "height": 340
        }
      },
      "source": [
        "# Inspecting the split\n",
        "print('== Train data ==')\n",
        "train.info()\n",
        "print('===================================')\n",
        "print('== Test data ==')\n",
        "test.info()"
      ],
      "execution_count": 239,
      "outputs": [
        {
          "output_type": "stream",
          "text": [
            "== Train data ==\n",
            "<class 'pandas.core.frame.DataFrame'>\n",
            "RangeIndex: 16522 entries, 0 to 16521\n",
            "Data columns (total 3 columns):\n",
            "Unnamed: 0    16522 non-null int64\n",
            "class         16522 non-null int64\n",
            "tweet         16522 non-null object\n",
            "dtypes: int64(2), object(1)\n",
            "memory usage: 387.3+ KB\n",
            "===================================\n",
            "== Test data ==\n",
            "<class 'pandas.core.frame.DataFrame'>\n",
            "RangeIndex: 8261 entries, 16522 to 24782\n",
            "Data columns (total 3 columns):\n",
            "Unnamed: 0    8261 non-null int64\n",
            "class         8261 non-null int64\n",
            "tweet         8261 non-null object\n",
            "dtypes: int64(2), object(1)\n",
            "memory usage: 193.7+ KB\n"
          ],
          "name": "stdout"
        }
      ]
    },
    {
      "cell_type": "markdown",
      "metadata": {
        "id": "o6BS3a0_sbOu",
        "colab_type": "text"
      },
      "source": [
        "### Tokenization"
      ]
    },
    {
      "cell_type": "code",
      "metadata": {
        "id": "HppBJuGfrX02",
        "colab_type": "code",
        "colab": {}
      },
      "source": [
        "# Create list of review from datasets for further processing\n",
        "texts = list(train.tweet)\n",
        "texts.extend(test.tweet) \n",
        "\n",
        "# Split reviews into sentences\n",
        "sentences = []\n",
        "for text in texts:\n",
        "  sentences.extend(sent_tokenize(text))\n",
        "  \n",
        "# Create word tokens\n",
        "tokenized_texts = [word_tokenize(text) for text in sentences]\n",
        "tokenized_texts = list(map(lambda x: [y.lower() for y in x], tokenized_texts))"
      ],
      "execution_count": 0,
      "outputs": []
    },
    {
      "cell_type": "code",
      "metadata": {
        "id": "4hCpcFsrsUA_",
        "colab_type": "code",
        "colab": {}
      },
      "source": [
        "# Word2Vec model\n",
        "model = Word2Vec(tokenized_texts, \n",
        "                 size=250,     # embedding vector size\n",
        "                 min_count=7,  # consider words that occured at least 7 times\n",
        "                 window=7,     # define context as a 7-word window around the target word\n",
        "                 max_final_vocab = 3000).wv "
      ],
      "execution_count": 0,
      "outputs": []
    },
    {
      "cell_type": "code",
      "metadata": {
        "id": "OTigf_cju63j",
        "colab_type": "code",
        "colab": {}
      },
      "source": [
        "# All the tokenized words\n",
        "words = sorted(model.vocab.keys(), \n",
        "               key=lambda word: model.vocab[word].count,\n",
        "               reverse=True)[:1000]"
      ],
      "execution_count": 0,
      "outputs": []
    },
    {
      "cell_type": "code",
      "metadata": {
        "id": "Hz1N2F-au7hj",
        "colab_type": "code",
        "colab": {}
      },
      "source": [
        "# Return word-vectors\n",
        "word_vectors = model.vectors[[model.vocab[word].index for word in words]]"
      ],
      "execution_count": 0,
      "outputs": []
    },
    {
      "cell_type": "code",
      "metadata": {
        "id": "Oxb5RiFbxD0K",
        "colab_type": "code",
        "colab": {
          "base_uri": "https://localhost:8080/",
          "height": 238
        },
        "outputId": "60ef5f09-c9db-4b10-8796-e0de3721f4ec"
      },
      "source": [
        "# Average-vector-representations\n",
        "word_vectors"
      ],
      "execution_count": 244,
      "outputs": [
        {
          "output_type": "execute_result",
          "data": {
            "text/plain": [
              "array([[ 4.5234323e-02,  6.4165547e-02,  3.8024735e-01, ...,\n",
              "        -4.9930014e-02, -5.8162298e-02, -4.7597063e-01],\n",
              "       [-9.1445267e-01, -1.2779546e-01,  6.9595933e-01, ...,\n",
              "        -4.4969469e-01, -4.9344185e-01,  4.0883893e-01],\n",
              "       [-1.3795123e+00, -1.0621551e-01,  4.3548852e-01, ...,\n",
              "        -4.3454298e-01, -7.0303893e-01,  2.9149324e-01],\n",
              "       ...,\n",
              "       [-1.2874030e-01,  9.4156861e-02,  1.0581856e-01, ...,\n",
              "        -2.7854444e-02, -1.8184440e-01,  9.3350738e-02],\n",
              "       [ 1.5211017e-01,  9.3348704e-02, -1.7831408e-04, ...,\n",
              "        -3.1144835e-02, -1.7322108e-01, -2.2788556e-02],\n",
              "       [ 1.3812295e-01,  1.4111911e-01, -4.2907625e-02, ...,\n",
              "        -4.8778083e-02, -2.4063264e-01,  8.2185520e-03]], dtype=float32)"
            ]
          },
          "metadata": {
            "tags": []
          },
          "execution_count": 244
        }
      ]
    },
    {
      "cell_type": "markdown",
      "metadata": {
        "id": "CsqRpU_GyfyV",
        "colab_type": "text"
      },
      "source": [
        "## Opgave 2"
      ]
    },
    {
      "cell_type": "markdown",
      "metadata": {
        "id": "MMOh9T5xzCXV",
        "colab_type": "text"
      },
      "source": [
        "Count based operations"
      ]
    },
    {
      "cell_type": "code",
      "metadata": {
        "id": "JIdfWcvazCdZ",
        "colab_type": "code",
        "colab": {
          "base_uri": "https://localhost:8080/",
          "height": 204
        },
        "outputId": "be26f629-edac-469e-a984-94e7cbb9d868"
      },
      "source": [
        "pd.options.mode.chained_assignment = None  # Muting panda warnings from chained operations\n",
        "train['hate'] = train['class'] == 0\n",
        "train['offensive'] = train['class'] == 1\n",
        "train['neither'] = train['class'] == 2\n",
        "train.head()"
      ],
      "execution_count": 245,
      "outputs": [
        {
          "output_type": "execute_result",
          "data": {
            "text/html": [
              "<div>\n",
              "<style scoped>\n",
              "    .dataframe tbody tr th:only-of-type {\n",
              "        vertical-align: middle;\n",
              "    }\n",
              "\n",
              "    .dataframe tbody tr th {\n",
              "        vertical-align: top;\n",
              "    }\n",
              "\n",
              "    .dataframe thead th {\n",
              "        text-align: right;\n",
              "    }\n",
              "</style>\n",
              "<table border=\"1\" class=\"dataframe\">\n",
              "  <thead>\n",
              "    <tr style=\"text-align: right;\">\n",
              "      <th></th>\n",
              "      <th>Unnamed: 0</th>\n",
              "      <th>class</th>\n",
              "      <th>tweet</th>\n",
              "      <th>hate</th>\n",
              "      <th>offensive</th>\n",
              "      <th>neither</th>\n",
              "    </tr>\n",
              "  </thead>\n",
              "  <tbody>\n",
              "    <tr>\n",
              "      <th>0</th>\n",
              "      <td>0</td>\n",
              "      <td>2</td>\n",
              "      <td>!!! RT @mayasolovely: As a woman you shouldn't...</td>\n",
              "      <td>False</td>\n",
              "      <td>False</td>\n",
              "      <td>True</td>\n",
              "    </tr>\n",
              "    <tr>\n",
              "      <th>1</th>\n",
              "      <td>1</td>\n",
              "      <td>1</td>\n",
              "      <td>!!!!! RT @mleew17: boy dats cold...tyga dwn ba...</td>\n",
              "      <td>False</td>\n",
              "      <td>True</td>\n",
              "      <td>False</td>\n",
              "    </tr>\n",
              "    <tr>\n",
              "      <th>2</th>\n",
              "      <td>2</td>\n",
              "      <td>1</td>\n",
              "      <td>!!!!!!! RT @UrKindOfBrand Dawg!!!! RT @80sbaby...</td>\n",
              "      <td>False</td>\n",
              "      <td>True</td>\n",
              "      <td>False</td>\n",
              "    </tr>\n",
              "    <tr>\n",
              "      <th>3</th>\n",
              "      <td>3</td>\n",
              "      <td>1</td>\n",
              "      <td>!!!!!!!!! RT @C_G_Anderson: @viva_based she lo...</td>\n",
              "      <td>False</td>\n",
              "      <td>True</td>\n",
              "      <td>False</td>\n",
              "    </tr>\n",
              "    <tr>\n",
              "      <th>4</th>\n",
              "      <td>4</td>\n",
              "      <td>1</td>\n",
              "      <td>!!!!!!!!!!!!! RT @ShenikaRoberts: The shit you...</td>\n",
              "      <td>False</td>\n",
              "      <td>True</td>\n",
              "      <td>False</td>\n",
              "    </tr>\n",
              "  </tbody>\n",
              "</table>\n",
              "</div>"
            ],
            "text/plain": [
              "   Unnamed: 0  class  ... offensive  neither\n",
              "0           0      2  ...     False     True\n",
              "1           1      1  ...      True    False\n",
              "2           2      1  ...      True    False\n",
              "3           3      1  ...      True    False\n",
              "4           4      1  ...      True    False\n",
              "\n",
              "[5 rows x 6 columns]"
            ]
          },
          "metadata": {
            "tags": []
          },
          "execution_count": 245
        }
      ]
    },
    {
      "cell_type": "code",
      "metadata": {
        "id": "txKcLbet0Pn_",
        "colab_type": "code",
        "colab": {
          "base_uri": "https://localhost:8080/",
          "height": 204
        },
        "outputId": "877952ed-c815-4cbf-a88b-7f90b990f413"
      },
      "source": [
        "test['hate'] = test['class'] == 0\n",
        "test['offensive'] = test['class'] == 1\n",
        "test['neither'] = test['class'] == 2\n",
        "test.head()"
      ],
      "execution_count": 246,
      "outputs": [
        {
          "output_type": "execute_result",
          "data": {
            "text/html": [
              "<div>\n",
              "<style scoped>\n",
              "    .dataframe tbody tr th:only-of-type {\n",
              "        vertical-align: middle;\n",
              "    }\n",
              "\n",
              "    .dataframe tbody tr th {\n",
              "        vertical-align: top;\n",
              "    }\n",
              "\n",
              "    .dataframe thead th {\n",
              "        text-align: right;\n",
              "    }\n",
              "</style>\n",
              "<table border=\"1\" class=\"dataframe\">\n",
              "  <thead>\n",
              "    <tr style=\"text-align: right;\">\n",
              "      <th></th>\n",
              "      <th>Unnamed: 0</th>\n",
              "      <th>class</th>\n",
              "      <th>tweet</th>\n",
              "      <th>hate</th>\n",
              "      <th>offensive</th>\n",
              "      <th>neither</th>\n",
              "    </tr>\n",
              "  </thead>\n",
              "  <tbody>\n",
              "    <tr>\n",
              "      <th>16522</th>\n",
              "      <td>16522</td>\n",
              "      <td>0</td>\n",
              "      <td>RT @MrHoratioSanz: Vin Scully once called me a...</td>\n",
              "      <td>True</td>\n",
              "      <td>False</td>\n",
              "      <td>False</td>\n",
              "    </tr>\n",
              "    <tr>\n",
              "      <th>16523</th>\n",
              "      <td>16523</td>\n",
              "      <td>1</td>\n",
              "      <td>RT @MrLuckyToYou: Eat that pussy from the back...</td>\n",
              "      <td>False</td>\n",
              "      <td>True</td>\n",
              "      <td>False</td>\n",
              "    </tr>\n",
              "    <tr>\n",
              "      <th>16524</th>\n",
              "      <td>16524</td>\n",
              "      <td>1</td>\n",
              "      <td>RT @MrLuckyToYou: If that pussy good, umma moa...</td>\n",
              "      <td>False</td>\n",
              "      <td>True</td>\n",
              "      <td>False</td>\n",
              "    </tr>\n",
              "    <tr>\n",
              "      <th>16525</th>\n",
              "      <td>16525</td>\n",
              "      <td>1</td>\n",
              "      <td>RT @MrNBAallday: Kobe calls Dwight Howard a \"b...</td>\n",
              "      <td>False</td>\n",
              "      <td>True</td>\n",
              "      <td>False</td>\n",
              "    </tr>\n",
              "    <tr>\n",
              "      <th>16526</th>\n",
              "      <td>16526</td>\n",
              "      <td>1</td>\n",
              "      <td>RT @MrNationWide: fake eyelashes are okay if t...</td>\n",
              "      <td>False</td>\n",
              "      <td>True</td>\n",
              "      <td>False</td>\n",
              "    </tr>\n",
              "  </tbody>\n",
              "</table>\n",
              "</div>"
            ],
            "text/plain": [
              "       Unnamed: 0  class  ... offensive  neither\n",
              "16522       16522      0  ...     False    False\n",
              "16523       16523      1  ...      True    False\n",
              "16524       16524      1  ...      True    False\n",
              "16525       16525      1  ...      True    False\n",
              "16526       16526      1  ...      True    False\n",
              "\n",
              "[5 rows x 6 columns]"
            ]
          },
          "metadata": {
            "tags": []
          },
          "execution_count": 246
        }
      ]
    },
    {
      "cell_type": "code",
      "metadata": {
        "id": "TOnThlID09jm",
        "colab_type": "code",
        "colab": {
          "base_uri": "https://localhost:8080/",
          "height": 357
        },
        "outputId": "fd1c2fa9-ed76-4736-f8ba-d351a39cbc7f"
      },
      "source": [
        "print('====================')\n",
        "print('=== Training set ===')\n",
        "print(train.groupby('hate').count())\n",
        "print(train.groupby('offensive').count())\n",
        "print('====================')\n",
        "print('=== Test set =======')\n",
        "print(train.groupby('hate').count())\n",
        "print(train.groupby('offensive').count())"
      ],
      "execution_count": 247,
      "outputs": [
        {
          "output_type": "stream",
          "text": [
            "====================\n",
            "=== Training set ===\n",
            "       Unnamed: 0  class  tweet  offensive  neither\n",
            "hate                                               \n",
            "False       15453  15453  15453      15453    15453\n",
            "True         1069   1069   1069       1069     1069\n",
            "           Unnamed: 0  class  tweet   hate  neither\n",
            "offensive                                          \n",
            "False            3859   3859   3859   3859     3859\n",
            "True            12663  12663  12663  12663    12663\n",
            "====================\n",
            "=== Test set =======\n",
            "       Unnamed: 0  class  tweet  offensive  neither\n",
            "hate                                               \n",
            "False       15453  15453  15453      15453    15453\n",
            "True         1069   1069   1069       1069     1069\n",
            "           Unnamed: 0  class  tweet   hate  neither\n",
            "offensive                                          \n",
            "False            3859   3859   3859   3859     3859\n",
            "True            12663  12663  12663  12663    12663\n"
          ],
          "name": "stdout"
        }
      ]
    },
    {
      "cell_type": "markdown",
      "metadata": {
        "id": "2l4Ji5Hy10c8",
        "colab_type": "text"
      },
      "source": [
        "Lets have a look at tweets that contain 'trump' or 'Trump' and their relation to hate or offensive"
      ]
    },
    {
      "cell_type": "code",
      "metadata": {
        "id": "7xSfzfvv10kB",
        "colab_type": "code",
        "colab": {
          "base_uri": "https://localhost:8080/",
          "height": 255
        },
        "outputId": "3ac69a5a-8792-497f-c7d6-02dcaccce4da"
      },
      "source": [
        "train['Trump'] = train.tweet.str.contains(('Trump') or ('trump'), na = False)\n",
        "train[train['Trump'] == True].head()\n",
        "\n",
        "print('====================')\n",
        "print('=== Trump Chart ====')\n",
        "print(train.groupby('hate').Trump.value_counts())\n",
        "print(train.groupby('offensive').Trump.value_counts())"
      ],
      "execution_count": 248,
      "outputs": [
        {
          "output_type": "stream",
          "text": [
            "====================\n",
            "=== Trump Chart ====\n",
            "hate   Trump\n",
            "False  False    15449\n",
            "       True         4\n",
            "True   False     1068\n",
            "       True         1\n",
            "Name: Trump, dtype: int64\n",
            "offensive  Trump\n",
            "False      False     3858\n",
            "           True         1\n",
            "True       False    12659\n",
            "           True         4\n",
            "Name: Trump, dtype: int64\n"
          ],
          "name": "stdout"
        }
      ]
    },
    {
      "cell_type": "markdown",
      "metadata": {
        "id": "5lycFlpm42CO",
        "colab_type": "text"
      },
      "source": [
        "'Trump' is not particularly related to hate tweets, but rather overrepresented in 'offensive' tweets. Regardless of your political position, this is rather hillarious, either because it implies 'trump' is offensive, or twitter is using 'interesting' algorithms."
      ]
    },
    {
      "cell_type": "markdown",
      "metadata": {
        "id": "0QpgMF_47WbO",
        "colab_type": "text"
      },
      "source": [
        "Next, let's prepare data for visualization"
      ]
    },
    {
      "cell_type": "code",
      "metadata": {
        "id": "d_ed6UCf5cki",
        "colab_type": "code",
        "colab": {}
      },
      "source": [
        "# Fire up spacy\n",
        "nlp = spacy.load(\"en\")"
      ],
      "execution_count": 0,
      "outputs": []
    },
    {
      "cell_type": "code",
      "metadata": {
        "id": "sOwsa2c_7A2F",
        "colab_type": "code",
        "colab": {}
      },
      "source": [
        "# Pipe through spacy, to get tokens\n",
        "tokens = []\n",
        "for tweet in nlp.pipe(train['tweet']):\n",
        "  proj_tok = [token.lemma_.lower() for token in tweet if token.pos_ in ['NOUN', 'PROPN', 'ADJ', 'ADV'] and not token.is_stop] \n",
        "  tokens.append(proj_tok)"
      ],
      "execution_count": 0,
      "outputs": []
    },
    {
      "cell_type": "code",
      "metadata": {
        "id": "Yen_aH0j7xXn",
        "colab_type": "code",
        "colab": {}
      },
      "source": [
        "# Train and filter the tokens\n",
        "train['tokens'] = tokens\n",
        "dictionary = Dictionary(train['tokens'])\n",
        "dictionary.filter_extremes(no_below=4, no_above=0.6, keep_n=200)\n",
        "corpus = [dictionary.doc2bow(doc) for doc in train['tokens']]"
      ],
      "execution_count": 0,
      "outputs": []
    },
    {
      "cell_type": "markdown",
      "metadata": {
        "id": "tJywRXEj8ZXz",
        "colab_type": "text"
      },
      "source": [
        "Alright, let's model the data and visualize"
      ]
    },
    {
      "cell_type": "code",
      "metadata": {
        "id": "N6OgoAs77BSY",
        "colab_type": "code",
        "colab": {}
      },
      "source": [
        "# Model construction\n",
        "%matplotlib inline\n",
        "pyLDAvis.enable_notebook()\n",
        "lda_model = LdaMulticore(corpus, id2word=dictionary,  num_topics=10, workers = 2, passes=10)\n",
        "lda_display = pyLDAvis.gensim.prepare(lda_model, corpus, dictionary, sort_topics=False)"
      ],
      "execution_count": 0,
      "outputs": []
    },
    {
      "cell_type": "code",
      "metadata": {
        "id": "BGVL2tPh81Ue",
        "colab_type": "code",
        "colab": {
          "base_uri": "https://localhost:8080/",
          "height": 881
        },
        "outputId": "71f9cb01-16a0-4650-98f1-d0bacdc59df6"
      },
      "source": [
        "# Hold on to your butts\n",
        "pyLDAvis.display(lda_display)"
      ],
      "execution_count": 253,
      "outputs": [
        {
          "output_type": "execute_result",
          "data": {
            "text/html": [
              "\n",
              "<link rel=\"stylesheet\" type=\"text/css\" href=\"https://cdn.rawgit.com/bmabey/pyLDAvis/files/ldavis.v1.0.0.css\">\n",
              "\n",
              "\n",
              "<div id=\"ldavis_el1231404935317198647037891445\"></div>\n",
              "<script type=\"text/javascript\">\n",
              "\n",
              "var ldavis_el1231404935317198647037891445_data = {\"mdsDat\": {\"x\": [0.09617681340558093, 0.035209547887114626, 0.24123812290616012, 0.2614612642700406, -0.23013969194773717, -0.16337005495085544, -0.22143072741462883, 0.23176104408277573, -0.03170218116846519, -0.21920413706998612], \"y\": [0.17723538262947328, 0.20393489311852842, -0.0008476068059279513, 0.005003511634034006, 0.11664595173591158, -0.14138212317664983, -0.027792596589524547, -0.054718987361472675, -0.40538898406303625, 0.12731055887866455], \"topics\": [1, 2, 3, 4, 5, 6, 7, 8, 9, 10], \"cluster\": [1, 1, 1, 1, 1, 1, 1, 1, 1, 1], \"Freq\": [14.271965980529785, 9.031926155090332, 9.759620666503906, 12.01510238647461, 10.641347885131836, 8.035836219787598, 9.127227783203125, 8.591322898864746, 8.19890022277832, 10.32674789428711]}, \"tinfo\": {\"Category\": [\"Default\", \"Default\", \"Default\", \"Default\", \"Default\", \"Default\", \"Default\", \"Default\", \"Default\", \"Default\", \"Default\", \"Default\", \"Default\", \"Default\", \"Default\", \"Default\", \"Default\", \"Default\", \"Default\", \"Default\", \"Default\", \"Default\", \"Default\", \"Default\", \"Default\", \"Default\", \"Default\", \"Default\", \"Default\", \"Default\", \"Topic1\", \"Topic1\", \"Topic1\", \"Topic1\", \"Topic1\", \"Topic1\", \"Topic1\", \"Topic1\", \"Topic1\", \"Topic1\", \"Topic1\", \"Topic1\", \"Topic1\", \"Topic1\", \"Topic1\", \"Topic1\", \"Topic1\", \"Topic1\", \"Topic1\", \"Topic1\", \"Topic1\", \"Topic1\", \"Topic1\", \"Topic1\", \"Topic1\", \"Topic1\", \"Topic1\", \"Topic1\", \"Topic1\", \"Topic1\", \"Topic2\", \"Topic2\", \"Topic2\", \"Topic2\", \"Topic2\", \"Topic2\", \"Topic2\", \"Topic2\", \"Topic2\", \"Topic2\", \"Topic2\", \"Topic2\", \"Topic2\", \"Topic2\", \"Topic2\", \"Topic2\", \"Topic2\", \"Topic2\", \"Topic2\", \"Topic2\", \"Topic2\", \"Topic2\", \"Topic2\", \"Topic2\", \"Topic2\", \"Topic2\", \"Topic2\", \"Topic2\", \"Topic2\", \"Topic2\", \"Topic3\", \"Topic3\", \"Topic3\", \"Topic3\", \"Topic3\", \"Topic3\", \"Topic3\", \"Topic3\", \"Topic3\", \"Topic3\", \"Topic3\", \"Topic3\", \"Topic3\", \"Topic3\", \"Topic3\", \"Topic3\", \"Topic3\", \"Topic3\", \"Topic3\", \"Topic3\", \"Topic3\", \"Topic3\", \"Topic3\", \"Topic3\", \"Topic3\", \"Topic3\", \"Topic3\", \"Topic3\", \"Topic3\", \"Topic3\", \"Topic3\", \"Topic4\", \"Topic4\", \"Topic4\", \"Topic4\", \"Topic4\", \"Topic4\", \"Topic4\", \"Topic4\", \"Topic4\", \"Topic4\", \"Topic4\", \"Topic4\", \"Topic4\", \"Topic4\", \"Topic4\", \"Topic4\", \"Topic4\", \"Topic4\", \"Topic4\", \"Topic4\", \"Topic4\", \"Topic4\", \"Topic4\", \"Topic4\", \"Topic4\", \"Topic4\", \"Topic4\", \"Topic4\", \"Topic4\", \"Topic4\", \"Topic4\", \"Topic5\", \"Topic5\", \"Topic5\", \"Topic5\", \"Topic5\", \"Topic5\", \"Topic5\", \"Topic5\", \"Topic5\", \"Topic5\", \"Topic5\", \"Topic5\", \"Topic5\", \"Topic5\", \"Topic5\", \"Topic5\", \"Topic5\", \"Topic5\", \"Topic5\", \"Topic5\", \"Topic5\", \"Topic5\", \"Topic5\", \"Topic5\", \"Topic5\", \"Topic5\", \"Topic5\", \"Topic5\", \"Topic5\", \"Topic5\", \"Topic5\", \"Topic5\", \"Topic6\", \"Topic6\", \"Topic6\", \"Topic6\", \"Topic6\", \"Topic6\", \"Topic6\", \"Topic6\", \"Topic6\", \"Topic6\", \"Topic6\", \"Topic6\", \"Topic6\", \"Topic6\", \"Topic6\", \"Topic6\", \"Topic6\", \"Topic6\", \"Topic6\", \"Topic6\", \"Topic6\", \"Topic6\", \"Topic6\", \"Topic6\", \"Topic6\", \"Topic6\", \"Topic6\", \"Topic6\", \"Topic6\", \"Topic6\", \"Topic6\", \"Topic7\", \"Topic7\", \"Topic7\", \"Topic7\", \"Topic7\", \"Topic7\", \"Topic7\", \"Topic7\", \"Topic7\", \"Topic7\", \"Topic7\", \"Topic7\", \"Topic7\", \"Topic7\", \"Topic7\", \"Topic7\", \"Topic7\", \"Topic7\", \"Topic7\", \"Topic7\", \"Topic7\", \"Topic7\", \"Topic7\", \"Topic7\", \"Topic7\", \"Topic7\", \"Topic7\", \"Topic7\", \"Topic7\", \"Topic7\", \"Topic7\", \"Topic8\", \"Topic8\", \"Topic8\", \"Topic8\", \"Topic8\", \"Topic8\", \"Topic8\", \"Topic8\", \"Topic8\", \"Topic8\", \"Topic8\", \"Topic8\", \"Topic8\", \"Topic8\", \"Topic8\", \"Topic8\", \"Topic8\", \"Topic8\", \"Topic8\", \"Topic8\", \"Topic8\", \"Topic8\", \"Topic8\", \"Topic8\", \"Topic8\", \"Topic8\", \"Topic8\", \"Topic8\", \"Topic8\", \"Topic8\", \"Topic8\", \"Topic8\", \"Topic9\", \"Topic9\", \"Topic9\", \"Topic9\", \"Topic9\", \"Topic9\", \"Topic9\", \"Topic9\", \"Topic9\", \"Topic9\", \"Topic9\", \"Topic9\", \"Topic9\", \"Topic9\", \"Topic9\", \"Topic9\", \"Topic9\", \"Topic9\", \"Topic9\", \"Topic9\", \"Topic9\", \"Topic9\", \"Topic9\", \"Topic9\", \"Topic9\", \"Topic9\", \"Topic9\", \"Topic9\", \"Topic9\", \"Topic9\", \"Topic9\", \"Topic10\", \"Topic10\", \"Topic10\", \"Topic10\", \"Topic10\", \"Topic10\", \"Topic10\", \"Topic10\", \"Topic10\", \"Topic10\", \"Topic10\", \"Topic10\", \"Topic10\", \"Topic10\", \"Topic10\", \"Topic10\", \"Topic10\", \"Topic10\", \"Topic10\", \"Topic10\", \"Topic10\", \"Topic10\", \"Topic10\", \"Topic10\", \"Topic10\", \"Topic10\", \"Topic10\", \"Topic10\", \"Topic10\", \"Topic10\"], \"Freq\": [2064.0, 5730.0, 1277.0, 4084.0, 965.0, 810.0, 679.0, 580.0, 564.0, 577.0, 470.0, 486.0, 628.0, 463.0, 417.0, 402.0, 404.0, 443.0, 668.0, 378.0, 443.0, 335.0, 294.0, 296.0, 287.0, 279.0, 359.0, 246.0, 253.0, 233.0, 142.343994140625, 137.5660400390625, 50.534603118896484, 43.469017028808594, 42.538150787353516, 91.78047180175781, 39.79200744628906, 45.74178695678711, 36.35261154174805, 35.73624801635742, 37.31435012817383, 30.386362075805664, 102.1214599609375, 3152.158203125, 19.34530258178711, 1626.830078125, 40.12980270385742, 14.20251750946045, 36.416316986083984, 25.106351852416992, 18.39968490600586, 13.22205924987793, 45.85966491699219, 18.40650177001953, 11.824410438537598, 11.060276985168457, 10.865825653076172, 6.490241527557373, 14.484068870544434, 2.4451236724853516, 678.5117797851562, 203.96246337890625, 198.7332763671875, 154.63827514648438, 174.87026977539062, 142.68849182128906, 98.70622253417969, 68.71745300292969, 111.39757537841797, 55.277976989746094, 54.91815948486328, 45.360294342041016, 69.39380645751953, 64.9214096069336, 55.67262268066406, 342.6928405761719, 43.85083770751953, 48.197025299072266, 29.052642822265625, 13.321358680725098, 11.078981399536133, 514.075439453125, 8.51003360748291, 511.33404541015625, 7.239049434661865, 2.872601270675659, 8.645520210266113, 2.1540780067443848, 2.162407636642456, 1.7641198635101318, 403.9754943847656, 334.7022399902344, 195.21910095214844, 158.83099365234375, 144.11294555664062, 128.54766845703125, 114.67267608642578, 97.52323150634766, 87.79345703125, 87.83946990966797, 79.04324340820312, 72.61710357666016, 65.5032730102539, 70.24356079101562, 58.34336471557617, 53.73270797729492, 50.02082443237305, 48.8702278137207, 48.75212097167969, 69.30322265625, 89.4388656616211, 154.3208770751953, 65.53711700439453, 137.46189880371094, 47.83077621459961, 245.36297607421875, 54.4337043762207, 41.5252685546875, 109.36747741699219, 10.544611930847168, 598.3314208984375, 964.7683715820312, 810.1104125976562, 442.39825439453125, 169.0122833251953, 155.89222717285156, 67.0595932006836, 64.89013671875, 104.8013916015625, 84.2391357421875, 115.07576751708984, 76.33168029785156, 511.9912109375, 32.933876037597656, 19.177532196044922, 27.61063575744629, 15.144378662109375, 32.799312591552734, 97.68164825439453, 9.93580436706543, 14.215604782104492, 14.094949722290039, 15.413456916809082, 1013.9974975585938, 11.639363288879395, 26.466569900512695, 3.92138409614563, 8.862945556640625, 25.156963348388672, 4.2920451164245605, 0.9474707841873169, 22.329660415649414, 2062.610595703125, 193.07327270507812, 178.6930694580078, 103.81877136230469, 55.227325439453125, 53.75343704223633, 53.57161331176758, 50.592681884765625, 247.4064178466797, 107.3919677734375, 79.44831848144531, 49.970115661621094, 61.84254455566406, 29.521265029907227, 53.22610092163086, 113.9247055053711, 16.41217803955078, 778.5889282226562, 9.196630477905273, 11.575050354003906, 25.746776580810547, 36.36952209472656, 10.72415542602539, 8.453339576721191, 3.4661688804626465, 0.8729075193405151, 0.36694177985191345, 0.30526524782180786, 0.08667007833719254, 0.08665435761213303, 0.16076837480068207, 0.2563401460647583, 563.5355834960938, 469.8741455078125, 293.6893005371094, 159.7625274658203, 143.7808380126953, 122.94234466552734, 105.8544692993164, 105.59720611572266, 91.69202423095703, 89.32508850097656, 71.25121307373047, 65.98857879638672, 60.59039306640625, 58.15400695800781, 58.067901611328125, 47.32014083862305, 53.250091552734375, 259.8866271972656, 63.06404113769531, 120.40106201171875, 49.800636291503906, 15.642382621765137, 119.7205810546875, 7.781692028045654, 10.515345573425293, 7.159581661224365, 6.553619861602783, 2.026949405670166, 73.53092193603516, 0.8004321455955505, 13.564481735229492, 416.2370910644531, 462.2720642089844, 575.0521850585938, 138.88626098632812, 129.12193298339844, 100.70069122314453, 93.43579864501953, 80.5305404663086, 78.89291381835938, 67.90083312988281, 67.82747650146484, 65.43199920654297, 63.6777229309082, 56.030792236328125, 55.886070251464844, 52.92904281616211, 114.18360900878906, 147.53335571289062, 48.0714111328125, 73.42825317382812, 68.1791763305664, 134.08412170410156, 58.12601852416992, 37.514469146728516, 36.873409271240234, 39.58686828613281, 45.607643127441406, 41.991302490234375, 34.48915481567383, 7.9853196144104, 350.3182678222656, 401.5056457519531, 295.29620361328125, 152.023681640625, 152.85946655273438, 141.9435577392578, 103.86268615722656, 97.49169921875, 90.49143981933594, 89.15663146972656, 122.89643859863281, 81.12689971923828, 64.77581787109375, 60.02968215942383, 59.91855239868164, 53.48825454711914, 50.33149719238281, 50.4605827331543, 64.3040542602539, 115.63386535644531, 48.52771759033203, 223.3560333251953, 61.1833610534668, 167.8942108154297, 71.67472839355469, 60.2137565612793, 15.194342613220215, 9.858051300048828, 15.598421096801758, 111.23834228515625, 29.42294692993164, 436.6663513183594, 21.840496063232422, 579.4435424804688, 286.61004638671875, 198.18824768066406, 192.41720581054688, 193.40711975097656, 125.95330047607422, 105.95964050292969, 85.13675689697266, 75.76078796386719, 75.1065444946289, 65.76788330078125, 63.421142578125, 63.039344787597656, 59.6761474609375, 46.373477935791016, 460.6409606933594, 83.95198059082031, 59.6715202331543, 157.0571746826172, 47.21334457397461, 84.19898986816406, 122.32144927978516, 20.53755760192871, 44.99276351928711, 13.33553695678711, 10.430692672729492, 4.326189994812012, 40.582645416259766, 2.2895264625549316, 4.992140769958496, 3.860114336013794, 1276.67724609375, 246.09384155273438, 173.15380859375, 161.30555725097656, 375.0356140136719, 148.64659118652344, 61.25414276123047, 78.01610565185547, 39.352630615234375, 61.0675163269043, 507.5839538574219, 41.23732376098633, 38.14512634277344, 40.394775390625, 72.59073638916016, 14.653373718261719, 99.60010528564453, 36.3705940246582, 20.81894874572754, 7.135708332061768, 717.0082397460938, 6.795171737670898, 12.522629737854004, 9.925328254699707, 2.7475483417510986, 2.2078588008880615, 8.97067642211914, 2.397934913635254, 1.48601496219635, 1.1641724109649658], \"Term\": [\"hoe\", \"bitch\", \"pussy\", \"rt\", \"ass\", \"nigga\", \"_\", \"not\", \"lol\", \"amp\", \"bad\", \"fuck\", \"trash\", \"#\", \"girl\", \"bird\", \"u\", \"niggas\", \"shit\", \"man\", \"good\", \"time\", \"lmao\", \"people\", \"real\", \"white\", \"yo\", \"faggot\", \"day\", \"life\", \"little\", \"lil\", \"son\", \"b\", \"omg\", \"tho\", \"hand\", \"nah\", \"line\", \"maybe\", \"sure\", \"mouth\", \"dick\", \"bitch\", \"fine\", \"rt\", \"stupid\", \"fact\", \"mad\", \"house\", \"cool\", \"probably\", \"wit\", \"home\", \"wrong\", \"lot\", \"bruh\", \"word\", \"yo\", \"smh\", \"_\", \"money\", \"nigger\", \"woman\", \"thing\", \"way\", \"sex\", \"work\", \"love\", \"ready\", \"weed\", \"nasty\", \"world\", \"lmfao\", \"great\", \"good\", \"wrong\", \"fake\", \"dumb\", \"better\", \"lot\", \"rt\", \"gay\", \"bitch\", \"bruh\", \"week\", \"right\", \"hot\", \"happy\", \"phone\", \"u\", \"time\", \"old\", \"year\", \"da\", \"monkey\", \"tryna\", \"retard\", \"cracker\", \"well\", \"nigguh\", \"brownie\", \"stfu\", \"young\", \"basic\", \"point\", \"type\", \"drunk\", \"ill\", \"music\", \"free\", \"boy\", \"dem\", \"dumb\", \"video\", \"yo\", \"@kieffer_jason\", \"problem\", \"right\", \"maybe\", \"bitch\", \"ass\", \"nigga\", \"niggas\", \"ugly\", \"fat\", \"straight\", \"party\", \"face\", \"song\", \"bout\", \"smh\", \"shit\", \"fake\", \"ion\", \"@kieffer_jason\", \"mouth\", \"mad\", \"yo\", \"fine\", \"dis\", \"wanna\", \"gay\", \"bitch\", \"hot\", \"damn\", \"wrong\", \"boy\", \"fuck\", \"dumb\", \"word\", \"rt\", \"hoe\", \"big\", \"charlie\", \"school\", \"coon\", \"nice\", \"birthday\", \"body\", \"day\", \"happy\", \"bro\", \"dis\", \"word\", \"jus\", \"hell\", \"ghetto\", \"fact\", \"rt\", \"chick\", \"wanna\", \"dick\", \"right\", \"long\", \"home\", \"dem\", \"great\", \"maybe\", \"wife\", \"fine\", \"hand\", \"team\", \"new\", \"lol\", \"bad\", \"lmao\", \"today\", \"twitter\", \"dude\", \"everybody\", \"high\", \"retarded\", \"car\", \"job\", \"colored\", \"single\", \"brown\", \"thank\", \"true\", \"fun\", \"white\", \"house\", \"damn\", \"mad\", \"redneck\", \"trash\", \"eye\", \"home\", \"bruh\", \"bro\", \"phone\", \"rt\", \"lmfao\", \"bitch\", \"girl\", \"#\", \"amp\", \"guy\", \"yankees\", \"kid\", \"pic\", \"tonight\", \"fan\", \"nig\", \"loyal\", \"god\", \"yankee\", \"teabagger\", \"number\", \"sorry\", \"tweet\", \"black\", \"dyke\", \"funny\", \"better\", \"game\", \"gay\", \"ion\", \"wanna\", \"home\", \"ghetto\", \"new\", \"damn\", \"fact\", \"rt\", \"bird\", \"people\", \"fuckin\", \"friend\", \"baby\", \"female\", \"hair\", \"pretty\", \"cute\", \"crazy\", \"haha\", \"picture\", \"queer\", \"broke\", \"niccas\", \"half\", \"actually\", \"wife\", \"head\", \"reason\", \"life\", \"week\", \"dat\", \"phone\", \"bruh\", \"sure\", \"jus\", \"problem\", \"shit\", \"wit\", \"bitch\", \"right\", \"not\", \"real\", \"niggah\", \"nicca\", \"fucking\", \"night\", \"mom\", \"team\", \"dog\", \"red\", \"away\", \"wtf\", \"light\", \"tired\", \"naw\", \"fuck\", \"long\", \"redneck\", \"new\", \"cool\", \"stupid\", \"wit\", \"hell\", \"game\", \"problem\", \"home\", \"line\", \"shit\", \"phone\", \"right\", \"bitch\", \"pussy\", \"faggot\", \"cunt\", \"fag\", \"man\", \"yellow\", \"lady\", \"hard\", \"eye\", \"hot\", \"trash\", \"chick\", \"probably\", \"lot\", \"right\", \"video\", \"good\", \"dick\", \"phone\", \"fine\", \"rt\", \"fact\", \"smh\", \"problem\", \"nah\", \"dyke\", \"life\", \"free\", \"head\", \"tweet\"], \"Total\": [2064.0, 5730.0, 1277.0, 4084.0, 965.0, 810.0, 679.0, 580.0, 564.0, 577.0, 470.0, 486.0, 628.0, 463.0, 417.0, 402.0, 404.0, 443.0, 668.0, 378.0, 443.0, 335.0, 294.0, 296.0, 287.0, 279.0, 359.0, 246.0, 253.0, 233.0, 143.2493133544922, 138.60311889648438, 51.434913635253906, 44.36933135986328, 43.43792724609375, 93.7409439086914, 40.691978454589844, 49.3068733215332, 41.535675048828125, 47.35520553588867, 54.35712814331055, 46.35494613647461, 165.89303588867188, 5730.1884765625, 37.28348159790039, 4084.39013671875, 125.1768569946289, 46.021148681640625, 119.71109771728516, 89.80799865722656, 66.4013442993164, 52.18218994140625, 206.65594482421875, 88.29112243652344, 64.60372161865234, 73.35343933105469, 93.63251495361328, 83.86530303955078, 359.02923583984375, 92.05679321289062, 679.3931274414062, 204.8402557373047, 199.61483764648438, 155.5269012451172, 175.95352172851562, 143.62612915039062, 99.70122528076172, 69.60588073730469, 112.97528076171875, 56.15457534790039, 55.81541442871094, 46.24047088623047, 71.00337219238281, 66.49678039550781, 57.33867263793945, 443.08251953125, 64.60372161865234, 82.06084442138672, 171.4872283935547, 82.2853012084961, 73.35343933105469, 4084.39013671875, 82.78070068359375, 5730.1884765625, 93.63251495361328, 64.82831573486328, 254.2266845703125, 75.55953216552734, 110.34748840332031, 100.08396911621094, 404.8589172363281, 335.63665771484375, 196.0883331298828, 159.697021484375, 144.9829559326172, 129.41354370117188, 115.54151916503906, 98.38911437988281, 88.65930938720703, 88.776611328125, 79.9090347290039, 73.48282623291016, 66.37035369873047, 71.19844055175781, 59.212833404541016, 54.607666015625, 50.89467239379883, 49.73673629760742, 49.62035369873047, 70.5656509399414, 92.61557006835938, 164.16879272460938, 69.84869384765625, 171.4872283935547, 63.262535095214844, 359.02923583984375, 82.81409454345703, 80.94535064697266, 254.2266845703125, 47.35520553588867, 5730.1884765625, 965.6616821289062, 810.9982299804688, 443.284423828125, 169.8944854736328, 156.76904296875, 67.9382095336914, 65.76739501953125, 106.4210205078125, 85.57350158691406, 126.30278015136719, 92.05679321289062, 668.7037353515625, 82.06084442138672, 57.47243118286133, 82.81409454345703, 46.35494613647461, 119.71109771728516, 359.02923583984375, 37.28348159790039, 65.49822998046875, 73.24190521240234, 82.78070068359375, 5730.1884765625, 75.55953216552734, 182.10647583007812, 64.60372161865234, 164.16879272460938, 486.7440185546875, 171.4872283935547, 83.86530303955078, 4084.39013671875, 2064.02880859375, 193.979248046875, 179.5929412841797, 104.70418548583984, 56.11238479614258, 54.638607025146484, 54.456581115722656, 51.478111267089844, 253.09690856933594, 110.34748840332031, 88.96554565429688, 65.49822998046875, 83.86530303955078, 40.1587028503418, 74.53733825683594, 160.3183135986328, 46.021148681640625, 4084.39013671875, 51.23270034790039, 73.24190521240234, 165.89303588867188, 254.2266845703125, 100.17969512939453, 88.29112243652344, 69.84869384765625, 57.33867263793945, 47.35520553588867, 65.47389221191406, 37.28348159790039, 40.691978454589844, 86.1052474975586, 218.479736328125, 564.4281616210938, 470.763427734375, 294.5574645996094, 160.62542724609375, 144.6440887451172, 123.80386352539062, 106.7160873413086, 106.46183776855469, 92.55327606201172, 90.186279296875, 72.11244201660156, 66.85050201416016, 61.451515197753906, 59.015350341796875, 58.930240631103516, 48.18343734741211, 55.22751998901367, 279.2107849121094, 89.80799865722656, 182.10647583007812, 119.71109771728516, 76.068359375, 628.078369140625, 47.90866470336914, 88.29112243652344, 93.63251495361328, 88.96554565429688, 100.08396911621094, 4084.39013671875, 66.49678039550781, 5730.1884765625, 417.1233825683594, 463.3843994140625, 577.03076171875, 139.75880432128906, 129.99436950683594, 101.57328796386719, 94.30933380126953, 81.40282440185547, 79.76876831054688, 68.77377319335938, 68.70024871826172, 66.30465698242188, 64.54999542236328, 56.90442657470703, 56.76350402832031, 53.826778411865234, 116.13239288330078, 155.65501403808594, 51.0756950378418, 79.58275604248047, 82.2853012084961, 181.99356079101562, 82.78070068359375, 57.47243118286133, 73.24190521240234, 88.29112243652344, 160.3183135986328, 218.479736328125, 182.10647583007812, 46.021148681640625, 4084.39013671875, 402.372314453125, 296.24774169921875, 152.89100646972656, 153.75003051757812, 142.81922912597656, 104.729248046875, 98.36084747314453, 91.37256622314453, 90.05033111572266, 124.16574096679688, 81.99293518066406, 65.64158630371094, 60.89556121826172, 60.784767150878906, 54.35541915893555, 51.19731521606445, 51.36445999145508, 65.47389221191406, 117.91098022460938, 49.49586868286133, 233.1217498779297, 64.82831573486328, 180.5677490234375, 100.08396911621094, 93.63251495361328, 54.35712814331055, 40.1587028503418, 80.94535064697266, 668.7037353515625, 206.65594482421875, 5730.1884765625, 254.2266845703125, 580.3206176757812, 287.494873046875, 199.0488739013672, 193.28187561035156, 194.28338623046875, 126.81513977050781, 106.82154846191406, 86.1052474975586, 76.62358856201172, 75.96702575683594, 66.62884521484375, 64.28143310546875, 63.90193557739258, 60.55131149291992, 47.234493255615234, 486.7440185546875, 100.17969512939453, 76.068359375, 218.479736328125, 66.4013442993164, 125.1768569946289, 206.65594482421875, 74.53733825683594, 181.99356079101562, 80.94535064697266, 88.29112243652344, 41.535675048828125, 668.7037353515625, 100.08396911621094, 254.2266845703125, 5730.1884765625, 1277.7115478515625, 246.9782257080078, 174.0513153076172, 162.24427795410156, 378.3510437011719, 150.21311950683594, 62.18007278442383, 79.44381713867188, 47.90866470336914, 75.55953216552734, 628.078369140625, 51.23270034790039, 52.18218994140625, 73.35343933105469, 254.2266845703125, 63.262535095214844, 443.08251953125, 165.89303588867188, 100.08396911621094, 37.28348159790039, 4084.39013671875, 46.021148681640625, 92.05679321289062, 80.94535064697266, 49.3068733215332, 51.0756950378418, 233.1217498779297, 92.61557006835938, 117.91098022460938, 116.13239288330078], \"loglift\": [30.0, 29.0, 28.0, 27.0, 26.0, 25.0, 24.0, 23.0, 22.0, 21.0, 20.0, 19.0, 18.0, 17.0, 16.0, 15.0, 14.0, 13.0, 12.0, 11.0, 10.0, 9.0, 8.0, 7.0, 6.0, 5.0, 4.0, 3.0, 2.0, 1.0, 1.940500020980835, 1.9393999576568604, 1.9292000532150269, 1.9263999462127686, 1.9258999824523926, 1.9256999492645264, 1.9244999885559082, 1.8717999458312988, 1.813599944114685, 1.6654000282287598, 1.5707000494003296, 1.5245000123977661, 1.4616999626159668, 1.3492000102996826, 1.2907999753952026, 1.0262999534606934, 0.8093000054359436, 0.7712000012397766, 0.7567999958992004, 0.6722999811172485, 0.6635000109672546, 0.5740000009536743, 0.4413999915122986, 0.3788999915122986, 0.24879999458789825, 0.05490000173449516, -0.2069000005722046, -0.6119999885559082, -1.2634999752044678, -1.681399941444397, 2.40310001373291, 2.400099992752075, 2.4000000953674316, 2.398699998855591, 2.398200035095215, 2.397900104522705, 2.394399881362915, 2.3915998935699463, 2.3903000354766846, 2.388700008392334, 2.388200044631958, 2.385200023651123, 2.381500005722046, 2.3803999423980713, 2.3749001026153564, 2.1475000381469727, 2.016900062561035, 1.8722000122070312, 0.6290000081062317, 0.5835999846458435, 0.51419997215271, 0.33180001378059387, 0.12950000166893005, -0.01209999993443489, -0.15549999475479126, -0.7121000289916992, -0.9768000245094299, -1.1532000303268433, -1.527999997138977, -1.6339999437332153, 2.324700117111206, 2.3241000175476074, 2.322499990463257, 2.321500062942505, 2.3208999633789062, 2.320199966430664, 2.3194000720977783, 2.3180999755859375, 2.3171000480651855, 2.3162999153137207, 2.315999984741211, 2.3150999546051025, 2.313800096511841, 2.3134000301361084, 2.3120999336242676, 2.310800075531006, 2.3096001148223877, 2.309299945831299, 2.309299945831299, 2.3089001178741455, 2.2920000553131104, 2.2651000022888184, 2.263200044631958, 2.105799913406372, 2.047300100326538, 1.9463000297546387, 1.9072999954223633, 1.6593999862670898, 1.4833999872207642, 0.8248999714851379, 0.06759999692440033, 2.1180999279022217, 2.1178998947143555, 2.117000102996826, 2.113800048828125, 2.1133999824523926, 2.1059999465942383, 2.105600118637085, 2.1036999225616455, 2.103300094604492, 2.025899887084961, 1.9316999912261963, 1.8519999980926514, 1.2059999704360962, 1.021399974822998, 1.0205999612808228, 1.0003000497817993, 0.8242999911308289, 0.817300021648407, 0.7965999841690063, 0.5913000106811523, 0.47110000252723694, 0.43810001015663147, 0.3871999979019165, 0.2485000044107437, 0.19030000269412994, -0.6827999949455261, -0.800000011920929, -0.8435999751091003, -1.5686999559402466, -2.3642001152038574, -3.0899999141693115, 2.2397000789642334, 2.2356998920440674, 2.2353999614715576, 2.2318999767303467, 2.2244999408721924, 2.224100112915039, 2.2239999771118164, 2.223099946975708, 2.2177000045776367, 2.2132999897003174, 2.1273000240325928, 1.9697999954223633, 1.9357999563217163, 1.9327000379562378, 1.9036999940872192, 1.898800015449524, 1.2093000411987305, 0.5830000042915344, 0.5228999853134155, 0.3955000042915344, 0.3774000108242035, 0.29589998722076416, 0.006000000052154064, -0.10570000112056732, -0.7628999948501587, -1.9444999694824219, -2.619800090789795, -3.1277999877929688, -3.8238000869750977, -3.911400079727173, -4.042900085449219, -4.507500171661377, 2.519700050354004, 2.519399881362915, 2.5183000564575195, 2.515899896621704, 2.5153000354766846, 2.5143001079559326, 2.513200044631958, 2.5130999088287354, 2.511899948120117, 2.511699914932251, 2.509200096130371, 2.5083000659942627, 2.5071001052856445, 2.5065999031066895, 2.506500005722046, 2.503200054168701, 2.484800100326538, 2.44950008392334, 2.1677000522613525, 2.1075000762939453, 1.6441999673843384, 0.9395999908447266, 0.8637999892234802, 0.7037000060081482, 0.3935000002384186, -0.04969999939203262, -0.08699999749660492, -1.3782000541687012, -1.496000051498413, -1.8984999656677246, -3.5248000621795654, 2.3917999267578125, 2.3914999961853027, 2.390500068664551, 2.3875999450683594, 2.387200117111206, 2.3852999210357666, 2.3845999240875244, 2.3831000328063965, 2.3828999996185303, 2.3810999393463135, 2.3810999393463135, 2.38070011138916, 2.3803000450134277, 2.3784000873565674, 2.3782999515533447, 2.3770999908447266, 2.377000093460083, 2.3403000831604004, 2.3333001136779785, 2.3134000301361084, 2.205899953842163, 2.088399887084961, 2.040299892425537, 1.9673000574111938, 1.7075999975204468, 1.5917999744415283, 1.1368000507354736, 0.744700014591217, 0.7300000190734863, 0.6424000263214111, -0.062199998646974564, 2.4523000717163086, 2.451200008392334, 2.448699951171875, 2.4486000537872314, 2.4482998847961426, 2.4460999965667725, 2.445499897003174, 2.444700002670288, 2.4444000720977783, 2.4440999031066895, 2.4437999725341797, 2.4410998821258545, 2.4400999546051025, 2.4400999546051025, 2.4382998943328857, 2.4374001026153564, 2.4367001056671143, 2.4363999366760254, 2.4349000453948975, 2.4347000122070312, 2.411600112915039, 2.3966000080108643, 2.3815999031066895, 2.120500087738037, 2.0129001140594482, 1.179800033569336, 1.0499000549316406, 0.8077999949455261, 0.6607999801635742, 0.5051000118255615, -0.11990000307559967, -0.0, 2.4997000694274902, 2.4981000423431396, 2.496799945831299, 2.4967000484466553, 2.4965999126434326, 2.4944000244140625, 2.4930999279022217, 2.4899001121520996, 2.489799976348877, 2.489799976348877, 2.4881999492645264, 2.4876999855041504, 2.487600088119507, 2.486599922180176, 2.482800006866455, 2.4460999965667725, 2.324399948120117, 2.2583999633789062, 2.171099901199341, 2.160099983215332, 2.104599952697754, 1.9767999649047852, 1.2121000289916992, 1.103700041770935, 0.6977999806404114, 0.3652999997138977, 0.23929999768733978, -0.30079999566078186, -1.2764999866485596, -1.4292000532150269, -4.801599979400635, 2.2695999145507812, 2.2667999267578125, 2.2653000354766846, 2.2646000385284424, 2.2616000175476074, 2.2599000930786133, 2.2553999423980713, 2.2523000240325928, 2.073699951171875, 2.057499885559082, 2.0573999881744385, 2.0534000396728516, 1.9571000337600708, 1.673799991607666, 1.0169999599456787, 0.8077999949455261, 0.7778000235557556, 0.7529000043869019, 0.7002999782562256, 0.6169999837875366, 0.5306000113487244, 0.35749998688697815, 0.27559998631477356, 0.17170000076293945, -0.6169000267982483, -0.8708999752998352, -0.9872000217437744, -1.3833999633789062, -2.1033999919891357, -2.3322999477386475], \"logprob\": [30.0, 29.0, 28.0, 27.0, 26.0, 25.0, 24.0, 23.0, 22.0, 21.0, 20.0, 19.0, 18.0, 17.0, 16.0, 15.0, 14.0, 13.0, 12.0, 11.0, 10.0, 9.0, 8.0, 7.0, 6.0, 5.0, 4.0, 3.0, 2.0, 1.0, -3.727299928665161, -3.761399984359741, -4.762899875640869, -4.91349983215332, -4.935100078582764, -4.166100025177002, -5.0019001960754395, -4.862500190734863, -5.092299938201904, -5.109399795532227, -5.066100120544434, -5.271500110626221, -4.0594000816345215, -0.6297000050544739, -5.723100185394287, -1.291100025177002, -4.9934000968933105, -6.032100200653076, -5.0904998779296875, -5.462399959564209, -5.773200035095215, -6.103600025177002, -4.859899997711182, -5.772799968719482, -6.215400218963623, -6.282199859619141, -6.299900054931641, -6.815199851989746, -6.012499809265137, -7.791399955749512, -1.7080999612808228, -2.910099983215332, -2.936000108718872, -3.1868999004364014, -3.0638999938964844, -3.2672998905181885, -3.6357998847961426, -3.997999906539917, -3.514899969100952, -4.21560001373291, -4.222099781036377, -4.413300037384033, -3.9881999492645264, -4.054800033569336, -4.208499908447266, -2.391200065612793, -4.447199821472168, -4.352700233459473, -4.85890007019043, -5.638599872589111, -5.82289981842041, -1.9855999946594238, -6.086699962615967, -1.9910000562667847, -6.248499870300293, -7.172800064086914, -6.070899963378906, -7.460599899291992, -7.4567999839782715, -7.660299777984619, -2.3041000366210938, -2.4921998977661133, -3.031399965286255, -3.237600088119507, -3.33489990234375, -3.449199914932251, -3.5634000301361084, -3.725399971008301, -3.8304998874664307, -3.8299999237060547, -3.935499906539917, -4.020299911499023, -4.1234002113342285, -4.053500175476074, -4.239099979400635, -4.321499824523926, -4.39300012588501, -4.416299819946289, -4.418700218200684, -4.066999912261963, -3.8118999004364014, -3.266400098800659, -4.122900009155273, -3.3821001052856445, -4.43779993057251, -2.8027000427246094, -4.308499813079834, -4.57919979095459, -3.61080002784729, -5.949900150299072, -1.9112999439239502, -1.6414999961853027, -1.8162000179290771, -2.4212000370025635, -3.3833999633789062, -3.464200019836426, -4.307799816131592, -4.340700149536133, -3.861299991607666, -4.079699993133545, -3.7678000926971436, -4.178299903869629, -2.275099992752075, -5.018899917602539, -5.559599876403809, -5.195199966430664, -5.79580020904541, -5.0229997634887695, -3.9316999912261963, -6.217199802398682, -5.859000205993652, -5.867599964141846, -5.77810001373291, -1.5916999578475952, -6.059000015258789, -5.237500190734863, -7.146900177001953, -6.331500053405762, -5.288300037384033, -7.056600093841553, -8.567299842834473, -5.40749979019165, -0.760200023651123, -3.1289000511169434, -3.2063000202178955, -3.749300003051758, -4.380499839782715, -4.407599925994873, -4.410900115966797, -4.468200206756592, -2.8808999061584473, -3.7155001163482666, -4.016900062561035, -4.480500221252441, -4.267399787902832, -5.006899833679199, -4.417399883270264, -3.656399965286255, -5.593900203704834, -1.7345000505447388, -6.173099994659424, -5.9430999755859375, -5.143700122833252, -4.7982001304626465, -6.019499778747559, -6.257400035858154, -7.148900032043457, -8.527899742126465, -9.394499778747559, -9.578499794006348, -10.837599754333496, -10.837800025939941, -10.219799995422363, -9.753199577331543, -1.776900053024292, -1.9586999416351318, -2.4286000728607178, -3.037400007247925, -3.1428000926971436, -3.2994000911712646, -3.4491000175476074, -3.4514999389648438, -3.5927000045776367, -3.618799924850464, -3.844899892807007, -3.921600103378296, -4.006999969482422, -4.047999858856201, -4.049499988555908, -4.254199981689453, -4.136099815368652, -2.5508999824523926, -3.9670000076293945, -3.3203001022338867, -4.203100204467773, -5.361100196838379, -3.3259999752044678, -6.0594000816345215, -5.758299827575684, -6.1427001953125, -6.231100082397461, -7.404600143432617, -3.8134000301361084, -8.333700180053711, -5.503699779510498, -2.207200050354004, -2.102299928665161, -1.8839999437332153, -3.304800033569336, -3.377700090408325, -3.626300096511841, -3.701200008392334, -3.8498001098632812, -3.8703999519348145, -4.020400047302246, -4.021500110626221, -4.057499885559082, -4.08459997177124, -4.212600231170654, -4.215199947357178, -4.269499778747559, -3.500699996948242, -3.2444000244140625, -4.365799903869629, -3.942199945449829, -4.016300201416016, -3.3399999141693115, -4.175899982452393, -4.613800048828125, -4.63100004196167, -4.559999942779541, -4.418399810791016, -4.500999927520752, -4.697800159454346, -6.160900115966797, -2.3796000480651855, -2.182800054550171, -2.490000009536743, -3.153899908065796, -3.1484999656677246, -3.2225000858306885, -3.534899950027466, -3.5982000827789307, -3.6726999282836914, -3.6875998973846436, -3.3666000366210938, -3.7820000648498535, -4.006999969482422, -4.083099842071533, -4.085000038146973, -4.198500156402588, -4.259300231933594, -4.256800174713135, -4.014400005340576, -3.427500009536743, -4.29580020904541, -2.769200086593628, -4.0640997886657715, -3.0546000003814697, -3.9058001041412354, -4.080100059509277, -5.457099914550781, -5.889699935913086, -5.430799961090088, -3.4663000106811523, -4.796199798583984, -2.09879994392395, -5.094200134277344, -1.7691999673843384, -2.473099946975708, -2.8420000076293945, -2.8715999126434326, -2.8664000034332275, -3.295300006866455, -3.4681999683380127, -3.687000036239624, -3.8036000728607178, -3.812299966812134, -3.9451000690460205, -3.9814000129699707, -3.987499952316284, -4.042300224304199, -4.29449987411499, -1.9986000061035156, -3.7009999752044678, -4.042399883270264, -3.0745999813079834, -4.276500225067139, -3.697999954223633, -3.3245999813079834, -5.109000205993652, -4.324699878692627, -5.540800094604492, -5.786499977111816, -6.666500091552734, -4.4278998374938965, -7.3028998374938965, -6.523399829864502, -6.7804999351501465, -1.2099000215530396, -2.8561999797821045, -3.2077999114990234, -3.278700113296509, -2.4349000453948975, -3.3603999614715576, -4.2469000816345215, -4.005000114440918, -4.6894001960754395, -4.25, -2.1322999000549316, -4.642600059509277, -4.720600128173828, -4.663300037384033, -4.077099800109863, -5.677299976348877, -3.7607998847961426, -4.768199920654297, -5.326099872589111, -6.3968000411987305, -1.7869000434875488, -6.445700168609619, -5.834400177001953, -6.06689977645874, -7.351200103759766, -7.569900035858154, -6.168000221252441, -7.487400054931641, -7.96589994430542, -8.20989990234375]}, \"token.table\": {\"Topic\": [7, 3, 4, 2, 8, 2, 7, 4, 9, 1, 8, 6, 3, 2, 7, 5, 8, 5, 1, 2, 3, 4, 6, 8, 9, 3, 7, 8, 5, 3, 4, 3, 4, 5, 6, 8, 8, 6, 3, 1, 2, 3, 6, 7, 8, 6, 5, 5, 10, 6, 1, 9, 5, 3, 8, 10, 8, 3, 4, 6, 7, 3, 8, 3, 5, 3, 5, 1, 5, 9, 10, 3, 4, 5, 9, 3, 6, 2, 3, 4, 7, 10, 6, 6, 10, 4, 7, 1, 5, 7, 10, 10, 10, 2, 4, 7, 4, 8, 1, 4, 10, 3, 10, 8, 4, 9, 8, 9, 1, 6, 3, 7, 3, 7, 9, 10, 2, 4, 7, 5, 7, 7, 7, 2, 10, 2, 5, 7, 8, 8, 8, 1, 2, 5, 4, 10, 8, 10, 5, 9, 6, 5, 1, 5, 6, 7, 9, 2, 4, 10, 1, 6, 9, 3, 4, 7, 6, 5, 8, 7, 10, 8, 10, 9, 1, 1, 9, 1, 6, 2, 6, 6, 3, 5, 9, 1, 2, 3, 10, 2, 8, 7, 1, 4, 6, 8, 10, 1, 3, 9, 2, 3, 1, 4, 3, 1, 10, 2, 9, 3, 7, 9, 9, 8, 5, 7, 4, 9, 4, 2, 3, 9, 9, 7, 3, 1, 4, 8, 2, 3, 6, 7, 8, 9, 10, 7, 8, 3, 8, 1, 10, 3, 8, 9, 10, 10, 8, 2, 9, 8, 9, 6, 9, 3, 6, 2, 3, 5, 8, 9, 10, 1, 2, 4, 5, 6, 7, 8, 10, 5, 2, 3, 4, 6, 8, 9, 6, 1, 4, 10, 1, 4, 8, 7, 3, 4, 1, 9, 1, 8, 9, 7, 9, 6, 2, 1, 7, 3, 9, 6, 7, 6, 10, 6, 3, 7, 10, 6, 3, 3, 4, 3, 10, 3, 4, 5, 7, 2, 2, 2, 8, 3, 6, 7, 8, 8, 1, 3, 8, 9, 2, 1, 2, 3, 4, 5, 2, 2, 7, 1, 2, 4, 8, 9, 7, 7, 3, 9, 10, 1, 3, 4, 8, 3], \"Freq\": [0.9970124363899231, 0.6520628929138184, 0.3381066918373108, 0.9994213581085205, 0.9734356999397278, 0.0017330098198726773, 0.9964806437492371, 0.9993147850036621, 0.9905619621276855, 0.9691379070281982, 0.9942638874053955, 0.998378336429596, 0.97951740026474, 0.15798690915107727, 0.8263930082321167, 0.9949517846107483, 0.9990746974945068, 0.9916157126426697, 0.5500691533088684, 0.08917681872844696, 0.10435956716537476, 0.17695753276348114, 0.0024432006757706404, 0.07626276463270187, 0.000698057294357568, 0.012848927639424801, 0.9508206248283386, 0.03854678198695183, 0.9907123446464539, 0.07917482405900955, 0.9105104207992554, 0.9380589127540588, 0.05482162535190582, 0.8879842162132263, 0.07868214696645737, 0.022480612620711327, 0.9870893955230713, 0.9827951192855835, 0.99342942237854, 0.1174805536866188, 0.07476035505533218, 0.01068005058914423, 0.07476035505533218, 0.07476035505533218, 0.6408030390739441, 0.9868463277816772, 0.9966984391212463, 0.17566905915737152, 0.800270140171051, 0.9872775673866272, 0.27107885479927063, 0.707817018032074, 0.980175793170929, 0.9925635457038879, 0.9906114339828491, 0.9939597249031067, 0.9883362054824829, 0.9932202100753784, 0.1427736133337021, 0.6589551568031311, 0.18670396506786346, 0.06645704805850983, 0.93039870262146, 0.019755279645323753, 0.9759107828140259, 0.9448995590209961, 0.04294997826218605, 0.6148540377616882, 0.15672749280929565, 0.006027980707585812, 0.21700729429721832, 0.015267588198184967, 0.21374623477458954, 0.7633793950080872, 0.9918616414070129, 0.985187292098999, 0.9935069680213928, 0.1691088080406189, 0.7988933324813843, 0.023325351998209953, 0.9397816061973572, 0.03915756940841675, 0.9932897686958313, 0.1669844090938568, 0.8140490055084229, 0.9866471886634827, 0.00939663965255022, 0.3042079508304596, 0.3476662337779999, 0.17383311688899994, 0.1521039754152298, 0.9923308491706848, 0.9960392117500305, 0.5849318504333496, 0.40214064717292786, 0.9903625249862671, 0.9950944185256958, 0.9930368065834045, 0.509609043598175, 0.2682152986526489, 0.1877507120370865, 0.9609615206718445, 0.021594641730189323, 0.9951217770576477, 0.051361698657274246, 0.9471097588539124, 0.9941722750663757, 0.9933942556381226, 0.018106915056705475, 0.9596664905548096, 0.0628276839852333, 0.9172841310501099, 0.010989399626851082, 0.7362897992134094, 0.24726149439811707, 0.005494699813425541, 0.10872099548578262, 0.18120165169239044, 0.7006464004516602, 0.711085319519043, 0.2869291603565216, 0.9973068237304688, 0.980323314666748, 0.7741221785545349, 0.22569158673286438, 0.9766532182693481, 0.01744023710489273, 0.9945706129074097, 0.9878900051116943, 0.9861647486686707, 0.9766137003898621, 0.9829947352409363, 0.018124563619494438, 0.9696640968322754, 0.012587511911988258, 0.9818259477615356, 0.9837930202484131, 0.008480974473059177, 0.7110530138015747, 0.2817379832267761, 0.9956619143486023, 0.9995015263557434, 0.2038710117340088, 0.09060933440923691, 0.12458783388137817, 0.45304667949676514, 0.11326166987419128, 0.026469195261597633, 0.1588151752948761, 0.8073104619979858, 0.2783716320991516, 0.7014965415000916, 0.011134865693747997, 0.9874979853630066, 0.3305932879447937, 0.6611865758895874, 0.984573483467102, 0.7470360994338989, 0.2490120232105255, 0.9943559169769287, 0.9810217022895813, 0.956581711769104, 0.0386064350605011, 0.9858856201171875, 0.9956485629081726, 0.8667247891426086, 0.09630275517702103, 0.9912787675857544, 0.9981074333190918, 0.9774909615516663, 0.01503832172602415, 0.9992414116859436, 0.04991031438112259, 0.10980269312858582, 0.838493287563324, 0.14995887875556946, 0.14995887875556946, 0.13632625341415405, 0.5453050136566162, 0.982515811920166, 0.008851493708789349, 0.9898071885108948, 0.30072399973869324, 0.27566367387771606, 0.41767221689224243, 0.005286096129566431, 0.9911430478096008, 0.7602121233940125, 0.23228703439235687, 0.9923091530799866, 0.9958980083465576, 0.9968044757843018, 0.6471801400184631, 0.32359007000923157, 0.9778128266334534, 0.9329327940940857, 0.06084344536066055, 0.9731734991073608, 0.9738645553588867, 0.08238750696182251, 0.1922375112771988, 0.7186021208763123, 0.9933678507804871, 0.9750638008117676, 0.9883121848106384, 0.9887490272521973, 0.9987691044807434, 0.9947305917739868, 0.9971024990081787, 0.9969198703765869, 0.9886241555213928, 0.9935722351074219, 0.9977243542671204, 0.9865493774414062, 0.99444979429245, 0.9899182915687561, 0.98833167552948, 0.9957881569862366, 0.01998322084546089, 0.009991610422730446, 0.01998322084546089, 0.009991610422730446, 0.7193959355354309, 0.01998322084546089, 0.2098238170146942, 0.9861165881156921, 0.9902259111404419, 0.9888721704483032, 0.9849783778190613, 0.24912714958190918, 0.7282177805900574, 0.5188685655593872, 0.19766423106193542, 0.16060218214988708, 0.12354014068841934, 0.9994431138038635, 0.9852935075759888, 0.9794393181800842, 0.9982786774635315, 0.9899815917015076, 0.9872704744338989, 0.21033713221549988, 0.788764238357544, 0.9960451722145081, 0.9940220713615417, 0.03540147468447685, 0.42875123023986816, 0.1416058987379074, 0.0865369439125061, 0.01966748759150505, 0.28714531660079956, 0.3983458876609802, 0.12584498524665833, 0.0053863609209656715, 0.1907261461019516, 0.018117759376764297, 0.08569210767745972, 0.0002448346058372408, 0.17554640769958496, 0.9932745099067688, 0.9929667115211487, 0.004486291669309139, 0.7656604647636414, 0.001495430595241487, 0.16599279642105103, 0.06131265312433243, 0.9926524758338928, 0.021725717931985855, 0.8255773186683655, 0.1412171721458435, 0.9915443658828735, 0.9816122651100159, 0.011685860343277454, 0.9846400022506714, 0.9944198727607727, 0.9861902594566345, 0.3195478916168213, 0.6710505485534668, 0.6806834936141968, 0.2759527564048767, 0.018396850675344467, 0.9841062426567078, 0.9871640205383301, 0.9842145442962646, 0.9945808053016663, 0.9814281463623047, 0.01066769752651453, 0.998103141784668, 0.99089515209198, 0.9961063265800476, 0.9950514435768127, 0.1910589635372162, 0.8088162541389465, 0.9754388928413391, 0.9953132271766663, 0.9816382527351379, 0.0086108623072505, 0.9955470561981201, 0.9824211001396179, 0.9978784918785095, 0.994735062122345, 0.7587429285049438, 0.23710715770721436, 0.13653385639190674, 0.19114740192890167, 0.1638406366109848, 0.5051752924919128, 0.9956405758857727, 0.9853909015655518, 0.04627607390284538, 0.9409468770027161, 0.991252064704895, 0.9311960935592651, 0.05014133080840111, 0.01790761761367321, 0.9774888753890991, 0.22259218990802765, 0.03871168568730354, 0.14032986760139465, 0.5903531908988953, 0.9966121315956116, 0.07154329121112823, 0.01192388217896223, 0.15501047670841217, 0.01192388217896223, 0.7392807006835938, 0.991295576095581, 0.9717848300933838, 0.01408383809030056, 0.18574781715869904, 0.6810753345489502, 0.061915937811136246, 0.061915937811136246, 0.9800652861595154, 0.9914795160293579, 0.992350697517395, 0.9956353306770325, 0.006657208316028118, 0.991923987865448, 0.038994040340185165, 0.6823956966400146, 0.27295827865600586, 0.0027852884959429502, 0.9831675887107849], \"Term\": [\"#\", \"@kieffer_jason\", \"@kieffer_jason\", \"_\", \"actually\", \"amp\", \"amp\", \"ass\", \"away\", \"b\", \"baby\", \"bad\", \"basic\", \"better\", \"better\", \"big\", \"bird\", \"birthday\", \"bitch\", \"bitch\", \"bitch\", \"bitch\", \"bitch\", \"bitch\", \"bitch\", \"black\", \"black\", \"black\", \"body\", \"bout\", \"bout\", \"boy\", \"boy\", \"bro\", \"bro\", \"bro\", \"broke\", \"brown\", \"brownie\", \"bruh\", \"bruh\", \"bruh\", \"bruh\", \"bruh\", \"bruh\", \"car\", \"charlie\", \"chick\", \"chick\", \"colored\", \"cool\", \"cool\", \"coon\", \"cracker\", \"crazy\", \"cunt\", \"cute\", \"da\", \"damn\", \"damn\", \"damn\", \"dat\", \"dat\", \"day\", \"day\", \"dem\", \"dem\", \"dick\", \"dick\", \"dick\", \"dick\", \"dis\", \"dis\", \"dis\", \"dog\", \"drunk\", \"dude\", \"dumb\", \"dumb\", \"dumb\", \"dyke\", \"dyke\", \"everybody\", \"eye\", \"eye\", \"face\", \"face\", \"fact\", \"fact\", \"fact\", \"fact\", \"fag\", \"faggot\", \"fake\", \"fake\", \"fan\", \"fat\", \"female\", \"fine\", \"fine\", \"fine\", \"free\", \"free\", \"friend\", \"fuck\", \"fuck\", \"fuckin\", \"fucking\", \"fun\", \"fun\", \"funny\", \"funny\", \"game\", \"game\", \"game\", \"game\", \"gay\", \"gay\", \"gay\", \"ghetto\", \"ghetto\", \"girl\", \"god\", \"good\", \"good\", \"great\", \"great\", \"guy\", \"haha\", \"hair\", \"half\", \"hand\", \"happy\", \"happy\", \"hard\", \"hard\", \"head\", \"head\", \"hell\", \"hell\", \"high\", \"hoe\", \"home\", \"home\", \"home\", \"home\", \"home\", \"hot\", \"hot\", \"hot\", \"house\", \"house\", \"house\", \"ill\", \"ion\", \"ion\", \"job\", \"jus\", \"jus\", \"kid\", \"lady\", \"life\", \"life\", \"light\", \"lil\", \"line\", \"line\", \"little\", \"lmao\", \"lmfao\", \"lmfao\", \"lol\", \"long\", \"long\", \"long\", \"lot\", \"lot\", \"lot\", \"lot\", \"love\", \"love\", \"loyal\", \"mad\", \"mad\", \"mad\", \"man\", \"man\", \"maybe\", \"maybe\", \"mom\", \"money\", \"monkey\", \"mouth\", \"mouth\", \"music\", \"nah\", \"nah\", \"nasty\", \"naw\", \"new\", \"new\", \"new\", \"nicca\", \"niccas\", \"nice\", \"nig\", \"nigga\", \"niggah\", \"niggas\", \"nigger\", \"nigguh\", \"night\", \"not\", \"number\", \"old\", \"omg\", \"party\", \"people\", \"phone\", \"phone\", \"phone\", \"phone\", \"phone\", \"phone\", \"phone\", \"pic\", \"picture\", \"point\", \"pretty\", \"probably\", \"probably\", \"problem\", \"problem\", \"problem\", \"problem\", \"pussy\", \"queer\", \"ready\", \"real\", \"reason\", \"red\", \"redneck\", \"redneck\", \"retard\", \"retarded\", \"right\", \"right\", \"right\", \"right\", \"right\", \"right\", \"rt\", \"rt\", \"rt\", \"rt\", \"rt\", \"rt\", \"rt\", \"rt\", \"school\", \"sex\", \"shit\", \"shit\", \"shit\", \"shit\", \"shit\", \"single\", \"smh\", \"smh\", \"smh\", \"son\", \"song\", \"song\", \"sorry\", \"stfu\", \"straight\", \"stupid\", \"stupid\", \"sure\", \"sure\", \"sure\", \"teabagger\", \"team\", \"thank\", \"thing\", \"tho\", \"tho\", \"time\", \"tired\", \"today\", \"tonight\", \"trash\", \"trash\", \"true\", \"tryna\", \"tweet\", \"tweet\", \"twitter\", \"type\", \"u\", \"ugly\", \"video\", \"video\", \"wanna\", \"wanna\", \"wanna\", \"wanna\", \"way\", \"weed\", \"week\", \"week\", \"well\", \"white\", \"white\", \"white\", \"wife\", \"wit\", \"wit\", \"wit\", \"wit\", \"woman\", \"word\", \"word\", \"word\", \"word\", \"word\", \"work\", \"world\", \"world\", \"wrong\", \"wrong\", \"wrong\", \"wrong\", \"wtf\", \"yankee\", \"yankees\", \"year\", \"yellow\", \"yellow\", \"yo\", \"yo\", \"yo\", \"yo\", \"young\"]}, \"R\": 30, \"lambda.step\": 0.01, \"plot.opts\": {\"xlab\": \"PC1\", \"ylab\": \"PC2\"}, \"topic.order\": [1, 2, 3, 4, 5, 6, 7, 8, 9, 10]};\n",
              "\n",
              "function LDAvis_load_lib(url, callback){\n",
              "  var s = document.createElement('script');\n",
              "  s.src = url;\n",
              "  s.async = true;\n",
              "  s.onreadystatechange = s.onload = callback;\n",
              "  s.onerror = function(){console.warn(\"failed to load library \" + url);};\n",
              "  document.getElementsByTagName(\"head\")[0].appendChild(s);\n",
              "}\n",
              "\n",
              "if(typeof(LDAvis) !== \"undefined\"){\n",
              "   // already loaded: just create the visualization\n",
              "   !function(LDAvis){\n",
              "       new LDAvis(\"#\" + \"ldavis_el1231404935317198647037891445\", ldavis_el1231404935317198647037891445_data);\n",
              "   }(LDAvis);\n",
              "}else if(typeof define === \"function\" && define.amd){\n",
              "   // require.js is available: use it to load d3/LDAvis\n",
              "   require.config({paths: {d3: \"https://cdnjs.cloudflare.com/ajax/libs/d3/3.5.5/d3.min\"}});\n",
              "   require([\"d3\"], function(d3){\n",
              "      window.d3 = d3;\n",
              "      LDAvis_load_lib(\"https://cdn.rawgit.com/bmabey/pyLDAvis/files/ldavis.v1.0.0.js\", function(){\n",
              "        new LDAvis(\"#\" + \"ldavis_el1231404935317198647037891445\", ldavis_el1231404935317198647037891445_data);\n",
              "      });\n",
              "    });\n",
              "}else{\n",
              "    // require.js not available: dynamically load d3 & LDAvis\n",
              "    LDAvis_load_lib(\"https://cdnjs.cloudflare.com/ajax/libs/d3/3.5.5/d3.min.js\", function(){\n",
              "         LDAvis_load_lib(\"https://cdn.rawgit.com/bmabey/pyLDAvis/files/ldavis.v1.0.0.js\", function(){\n",
              "                 new LDAvis(\"#\" + \"ldavis_el1231404935317198647037891445\", ldavis_el1231404935317198647037891445_data);\n",
              "            })\n",
              "         });\n",
              "}\n",
              "</script>"
            ],
            "text/plain": [
              "<IPython.core.display.HTML object>"
            ]
          },
          "metadata": {
            "tags": []
          },
          "execution_count": 253
        }
      ]
    },
    {
      "cell_type": "markdown",
      "metadata": {
        "id": "QjTI4tag9f_s",
        "colab_type": "text"
      },
      "source": [
        "The plot displayed is interactive, so readers viewing the HTML are invited to check out the colab."
      ]
    },
    {
      "cell_type": "markdown",
      "metadata": {
        "id": "N5tuVSsN_APo",
        "colab_type": "text"
      },
      "source": [
        "From the interactive plot, themes that are unique to topics can be identified by adjusting lambda."
      ]
    },
    {
      "cell_type": "markdown",
      "metadata": {
        "id": "iCW3_kl09vph",
        "colab_type": "text"
      },
      "source": [
        "## Opgave 3"
      ]
    },
    {
      "cell_type": "markdown",
      "metadata": {
        "id": "YyzuswP9_PMo",
        "colab_type": "text"
      },
      "source": [
        "Classification model"
      ]
    },
    {
      "cell_type": "code",
      "metadata": {
        "id": "TCAY987U_Qss",
        "colab_type": "code",
        "colab": {}
      },
      "source": [
        "# Create model\n",
        "model_gensim_glove = gapi.load('glove-wiki-gigaword-300')\n",
        "model = model_gensim_glove"
      ],
      "execution_count": 0,
      "outputs": []
    },
    {
      "cell_type": "code",
      "metadata": {
        "id": "1MWIjBam_fZW",
        "colab_type": "code",
        "colab": {}
      },
      "source": [
        "# Turn input text into average vector\n",
        "# Function heavily inspired by Stackoverflow\n",
        "def get_phrase_embedding(model, phrase):    \n",
        "    vector = np.zeros([model.vector_size], dtype='float32')\n",
        "    if type(phrase) == str:\n",
        "      phrase = list(map(lambda x: x.lower(), word_tokenize(phrase)))\n",
        "    vecs = [model.get_vector(tok) for tok in phrase if tok in model.wv.vocab]\n",
        "    if len(vecs) == 0:\n",
        "      return vector\n",
        "    else:\n",
        "      vector = sum(vecs)/len(vecs)\n",
        "      return vector"
      ],
      "execution_count": 0,
      "outputs": []
    },
    {
      "cell_type": "code",
      "metadata": {
        "id": "NqyPAyzT_2ku",
        "colab_type": "code",
        "colab": {}
      },
      "source": [
        "# Preb work\n",
        "b = multiprocessing.Pool()\n",
        "train_tok = b.map(word_tokenize, train.tweet)\n",
        "test_tok = b.map(word_tokenize, test.tweet)"
      ],
      "execution_count": 0,
      "outputs": []
    },
    {
      "cell_type": "code",
      "metadata": {
        "id": "STE1nzLsAJgB",
        "colab_type": "code",
        "colab": {
          "base_uri": "https://localhost:8080/",
          "height": 34
        },
        "outputId": "3bbc188e-d7e4-40b3-9f55-6a2eaa8ab110"
      },
      "source": [
        "# Vectorizing train and test.\n",
        "text_vectors_train = np.array([get_phrase_embedding(model, phrase) for phrase in train_tok])\n",
        "text_vectors_test = np.array([get_phrase_embedding(model, phrase) for phrase in test_tok])\n",
        "print(text_vectors_train.shape)"
      ],
      "execution_count": 257,
      "outputs": [
        {
          "output_type": "stream",
          "text": [
            "(16522, 300)\n"
          ],
          "name": "stdout"
        }
      ]
    },
    {
      "cell_type": "code",
      "metadata": {
        "id": "6zF_qD5dDAdc",
        "colab_type": "code",
        "colab": {
          "base_uri": "https://localhost:8080/",
          "height": 34
        },
        "outputId": "53f46ab0-8f78-4065-f8c2-80cfb9331015"
      },
      "source": [
        "clf1 = LogisticRegression()\n",
        "clf1.fit(text_vectors_train,train['class'])\n",
        "print()"
      ],
      "execution_count": 258,
      "outputs": [
        {
          "output_type": "stream",
          "text": [
            "\n"
          ],
          "name": "stdout"
        }
      ]
    },
    {
      "cell_type": "code",
      "metadata": {
        "id": "iMIeNQggAuhK",
        "colab_type": "code",
        "colab": {
          "base_uri": "https://localhost:8080/",
          "height": 34
        },
        "outputId": "80ce4df3-c7ef-4d76-937a-73198ca1fdc3"
      },
      "source": [
        "clf2 = LogisticRegression()\n",
        "clf2.fit(text_vectors_train,train['hate'])\n",
        "print()"
      ],
      "execution_count": 259,
      "outputs": [
        {
          "output_type": "stream",
          "text": [
            "\n"
          ],
          "name": "stdout"
        }
      ]
    },
    {
      "cell_type": "code",
      "metadata": {
        "id": "OLJEiINDDV2n",
        "colab_type": "code",
        "colab": {
          "base_uri": "https://localhost:8080/",
          "height": 34
        },
        "outputId": "9fb376f7-945e-4e1f-e25e-5f602b6791cd"
      },
      "source": [
        "clf3 = LogisticRegression()\n",
        "clf3.fit(text_vectors_train,train['offensive'])\n",
        "print()"
      ],
      "execution_count": 260,
      "outputs": [
        {
          "output_type": "stream",
          "text": [
            "\n"
          ],
          "name": "stdout"
        }
      ]
    },
    {
      "cell_type": "code",
      "metadata": {
        "id": "Vzy-yZk3DaAh",
        "colab_type": "code",
        "colab": {
          "base_uri": "https://localhost:8080/",
          "height": 34
        },
        "outputId": "d363e23b-d940-4cd3-84e6-dc7338abadba"
      },
      "source": [
        "clf4 = LogisticRegression()\n",
        "clf4.fit(text_vectors_train,train['neither'])\n",
        "print()"
      ],
      "execution_count": 261,
      "outputs": [
        {
          "output_type": "stream",
          "text": [
            "\n"
          ],
          "name": "stdout"
        }
      ]
    },
    {
      "cell_type": "code",
      "metadata": {
        "id": "n9oqOq_gDdA2",
        "colab_type": "code",
        "colab": {
          "base_uri": "https://localhost:8080/",
          "height": 221
        },
        "outputId": "901ae3e8-3174-4574-86dc-d2f16e5c478e"
      },
      "source": [
        "print('================================')\n",
        "print('=== General precision:')\n",
        "print(clf1.score(text_vectors_test,test['class']))\n",
        "print('================================')\n",
        "print('=== Hate speech precision:')\n",
        "print(clf2.score(text_vectors_test,test['hate']))\n",
        "print('================================')\n",
        "print('=== Offensive speech precision:')\n",
        "print(clf3.score(text_vectors_test,test['offensive']))\n",
        "print('================================')\n",
        "print('=== Neither-class precision:')\n",
        "print(clf4.score(text_vectors_test,test['neither']))\n"
      ],
      "execution_count": 262,
      "outputs": [
        {
          "output_type": "stream",
          "text": [
            "================================\n",
            "=== General precision:\n",
            "0.8807650405519912\n",
            "================================\n",
            "=== Hate speech precision:\n",
            "0.9567848928701126\n",
            "================================\n",
            "=== Offensive speech precision:\n",
            "0.8850018157608037\n",
            "================================\n",
            "=== Neither-class precision:\n",
            "0.9199854739135698\n"
          ],
          "name": "stdout"
        }
      ]
    }
  ]
}